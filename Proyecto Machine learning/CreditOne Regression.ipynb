{
 "cells": [
  {
   "cell_type": "markdown",
   "id": "2b8a1a5a",
   "metadata": {},
   "source": [
    "<h5 Style= 'color:#69d0b3'> Brandon Retana Diaz</h5>\n",
    "<h5 Style= 'color:#69d0b3'> Grupo #1 Analisis de Datos</h5>\n",
    "<h5 Style= 'color:#69d0b3'> Universidad Castro Carazo</h5>\n",
    "\n",
    "\n",
    "\n",
    "\n",
    "\n",
    "<h1  Style='text-align:center; color:#2790b0'> Proyecto De Analisis De Datos</h1>\n",
    "<br></br>\n",
    "<br></br>\n",
    "\n",
    "<h3 Style= 'text-align:center; color:#233f65'> CreditOne</h3>\n",
    "<br></br>\n",
    "<br></br>\n"
   ]
  },
  {
   "cell_type": "markdown",
   "id": "4f55e68a",
   "metadata": {},
   "source": [
    "<h3 Style='color: #1693a7'>1.  Carga de Librerias</h3>"
   ]
  },
  {
   "cell_type": "code",
   "execution_count": 1,
   "id": "ca3eb551",
   "metadata": {},
   "outputs": [],
   "source": [
    "import pandas as pd\n",
    "import matplotlib as mlp\n",
    "import matplotlib.pyplot as plt\n",
    "import numpy as np\n",
    "from sklearn import linear_model\n",
    "from sklearn.preprocessing import StandardScaler\n",
    "from sklearn.decomposition import PCA"
   ]
  },
  {
   "cell_type": "markdown",
   "id": "d0adf285",
   "metadata": {},
   "source": [
    "<h3 Style='color: #1693a7'>2. Importacion del set de datos</h3>"
   ]
  },
  {
   "cell_type": "code",
   "execution_count": 2,
   "id": "b02de2ff",
   "metadata": {},
   "outputs": [
    {
     "data": {
      "text/html": [
       "<div>\n",
       "<style scoped>\n",
       "    .dataframe tbody tr th:only-of-type {\n",
       "        vertical-align: middle;\n",
       "    }\n",
       "\n",
       "    .dataframe tbody tr th {\n",
       "        vertical-align: top;\n",
       "    }\n",
       "\n",
       "    .dataframe thead th {\n",
       "        text-align: right;\n",
       "    }\n",
       "</style>\n",
       "<table border=\"1\" class=\"dataframe\">\n",
       "  <thead>\n",
       "    <tr style=\"text-align: right;\">\n",
       "      <th></th>\n",
       "      <th>LIMIT_BAL</th>\n",
       "      <th>SEX</th>\n",
       "      <th>EDUCATION</th>\n",
       "      <th>MARRIAGE</th>\n",
       "      <th>AGE</th>\n",
       "      <th>PAY_0</th>\n",
       "      <th>PAY_2</th>\n",
       "      <th>PAY_3</th>\n",
       "      <th>PAY_4</th>\n",
       "      <th>PAY_5</th>\n",
       "      <th>...</th>\n",
       "      <th>BILL_ATM5</th>\n",
       "      <th>BILL_ATM6</th>\n",
       "      <th>PAY_ATM1</th>\n",
       "      <th>PAY_ATM2</th>\n",
       "      <th>PAY_ATM3</th>\n",
       "      <th>PAY_ATM4</th>\n",
       "      <th>PAY_ATM5</th>\n",
       "      <th>PAY_AMT6</th>\n",
       "      <th>default payment next month (Y)</th>\n",
       "      <th>BILL_ATM16</th>\n",
       "    </tr>\n",
       "  </thead>\n",
       "  <tbody>\n",
       "    <tr>\n",
       "      <th>0</th>\n",
       "      <td>20000</td>\n",
       "      <td>female</td>\n",
       "      <td>university</td>\n",
       "      <td>1</td>\n",
       "      <td>24</td>\n",
       "      <td>2</td>\n",
       "      <td>2</td>\n",
       "      <td>-1</td>\n",
       "      <td>-1</td>\n",
       "      <td>-2</td>\n",
       "      <td>...</td>\n",
       "      <td>0</td>\n",
       "      <td>0</td>\n",
       "      <td>0</td>\n",
       "      <td>689</td>\n",
       "      <td>0</td>\n",
       "      <td>0</td>\n",
       "      <td>0</td>\n",
       "      <td>0</td>\n",
       "      <td>default</td>\n",
       "      <td>0</td>\n",
       "    </tr>\n",
       "    <tr>\n",
       "      <th>1</th>\n",
       "      <td>120000</td>\n",
       "      <td>female</td>\n",
       "      <td>university</td>\n",
       "      <td>2</td>\n",
       "      <td>26</td>\n",
       "      <td>-1</td>\n",
       "      <td>2</td>\n",
       "      <td>0</td>\n",
       "      <td>0</td>\n",
       "      <td>0</td>\n",
       "      <td>...</td>\n",
       "      <td>3455</td>\n",
       "      <td>3261</td>\n",
       "      <td>0</td>\n",
       "      <td>1000</td>\n",
       "      <td>1000</td>\n",
       "      <td>1000</td>\n",
       "      <td>0</td>\n",
       "      <td>2000</td>\n",
       "      <td>default</td>\n",
       "      <td>3455</td>\n",
       "    </tr>\n",
       "    <tr>\n",
       "      <th>2</th>\n",
       "      <td>90000</td>\n",
       "      <td>female</td>\n",
       "      <td>university</td>\n",
       "      <td>2</td>\n",
       "      <td>34</td>\n",
       "      <td>0</td>\n",
       "      <td>0</td>\n",
       "      <td>0</td>\n",
       "      <td>0</td>\n",
       "      <td>0</td>\n",
       "      <td>...</td>\n",
       "      <td>14948</td>\n",
       "      <td>15549</td>\n",
       "      <td>1518</td>\n",
       "      <td>1500</td>\n",
       "      <td>1000</td>\n",
       "      <td>1000</td>\n",
       "      <td>1000</td>\n",
       "      <td>5000</td>\n",
       "      <td>not default</td>\n",
       "      <td>14948</td>\n",
       "    </tr>\n",
       "  </tbody>\n",
       "</table>\n",
       "<p>3 rows × 25 columns</p>\n",
       "</div>"
      ],
      "text/plain": [
       "   LIMIT_BAL     SEX   EDUCATION  MARRIAGE  AGE  PAY_0  PAY_2  PAY_3  PAY_4  \\\n",
       "0      20000  female  university         1   24      2      2     -1     -1   \n",
       "1     120000  female  university         2   26     -1      2      0      0   \n",
       "2      90000  female  university         2   34      0      0      0      0   \n",
       "\n",
       "   PAY_5  ...  BILL_ATM5  BILL_ATM6  PAY_ATM1  PAY_ATM2  PAY_ATM3  PAY_ATM4  \\\n",
       "0     -2  ...          0          0         0       689         0         0   \n",
       "1      0  ...       3455       3261         0      1000      1000      1000   \n",
       "2      0  ...      14948      15549      1518      1500      1000      1000   \n",
       "\n",
       "   PAY_ATM5  PAY_AMT6  default payment next month (Y)  BILL_ATM16  \n",
       "0         0         0                         default           0  \n",
       "1         0      2000                         default        3455  \n",
       "2      1000      5000                     not default       14948  \n",
       "\n",
       "[3 rows x 25 columns]"
      ]
     },
     "execution_count": 2,
     "metadata": {},
     "output_type": "execute_result"
    }
   ],
   "source": [
    "credit= pd.read_excel(\"credit.xlsx\")\n",
    "credit.drop(['Unnamed: 0'], axis=1, inplace=True)\n",
    "credit.head(3)"
   ]
  },
  {
   "cell_type": "code",
   "execution_count": 3,
   "id": "a0d0bc7e",
   "metadata": {},
   "outputs": [
    {
     "data": {
      "text/plain": [
       "Index(['LIMIT_BAL', 'SEX', 'EDUCATION', 'MARRIAGE', 'AGE', 'PAY_0', 'PAY_2',\n",
       "       'PAY_3', 'PAY_4', 'PAY_5', 'PAY_6', 'BILL_AMT1', 'BILL_ATM2',\n",
       "       'BILL_ATM3', 'BILL_ATM4', 'BILL_ATM5', 'BILL_ATM6', 'PAY_ATM1',\n",
       "       'PAY_ATM2', 'PAY_ATM3', 'PAY_ATM4', 'PAY_ATM5', 'PAY_AMT6',\n",
       "       'default payment next month (Y)', 'BILL_ATM16'],\n",
       "      dtype='object')"
      ]
     },
     "execution_count": 3,
     "metadata": {},
     "output_type": "execute_result"
    }
   ],
   "source": [
    "credit.columns"
   ]
  },
  {
   "cell_type": "code",
   "execution_count": 4,
   "id": "1abd1042",
   "metadata": {},
   "outputs": [],
   "source": [
    "credit= credit.rename(columns={'default payment next month (Y)':'Y'})"
   ]
  },
  {
   "cell_type": "markdown",
   "id": "e4cf3bd0",
   "metadata": {},
   "source": [
    "<h3 Style='color: #1693a7'>3. Reduccion de caracteristicas</h3>"
   ]
  },
  {
   "cell_type": "code",
   "execution_count": 5,
   "id": "14d6c5f3",
   "metadata": {
    "scrolled": true
   },
   "outputs": [
    {
     "name": "stdout",
     "output_type": "stream",
     "text": [
      "[[-1.12642689 -1.20840397  1.77647823 ... -0.34328006 -0.29509662\n",
      "  -0.25656677]\n",
      " [-0.35402725 -0.99677208 -0.89437003 ... -0.27310016 -0.29509662\n",
      "  -0.15692781]\n",
      " [-0.58574714 -0.15024451 -0.00408727 ... -0.27310016 -0.23589944\n",
      "  -0.00746937]\n",
      " ...\n",
      " [-0.27678728 -1.20840397  0.88619548 ... -0.27302998 -0.23951047\n",
      "  -0.20609964]\n",
      " [-0.43126721 -0.89095613 -0.00408727 ... -0.22411459 -0.18197081\n",
      "  -0.16649315]\n",
      " [ 0.26389247 -0.67932424 -0.00408727 ... -0.20965753 -0.29438625\n",
      "   0.0036902 ]]\n"
     ]
    }
   ],
   "source": [
    "features=['LIMIT_BAL', 'AGE', 'PAY_0', 'PAY_2', 'PAY_3', 'PAY_4','PAY_5','PAY_6', 'BILL_ATM4','BILL_ATM5', 'BILL_ATM6', \n",
    "           'PAY_ATM1','PAY_ATM2', 'PAY_ATM3', 'PAY_ATM4', 'PAY_ATM5', 'PAY_AMT6']\n",
    "x = credit.loc[:, features].values\n",
    "\n",
    "y= credit.loc[:, ['Y']].values\n",
    "\n",
    "x=StandardScaler().fit_transform(x)\n",
    "print(x)"
   ]
  },
  {
   "cell_type": "code",
   "execution_count": 6,
   "id": "19c3caab",
   "metadata": {},
   "outputs": [
    {
     "data": {
      "text/html": [
       "<div>\n",
       "<style scoped>\n",
       "    .dataframe tbody tr th:only-of-type {\n",
       "        vertical-align: middle;\n",
       "    }\n",
       "\n",
       "    .dataframe tbody tr th {\n",
       "        vertical-align: top;\n",
       "    }\n",
       "\n",
       "    .dataframe thead th {\n",
       "        text-align: right;\n",
       "    }\n",
       "</style>\n",
       "<table border=\"1\" class=\"dataframe\">\n",
       "  <thead>\n",
       "    <tr style=\"text-align: right;\">\n",
       "      <th></th>\n",
       "      <th>principal_component_1</th>\n",
       "      <th>principal_component_2</th>\n",
       "    </tr>\n",
       "  </thead>\n",
       "  <tbody>\n",
       "    <tr>\n",
       "      <th>0</th>\n",
       "      <td>-0.990931</td>\n",
       "      <td>-1.543769</td>\n",
       "    </tr>\n",
       "    <tr>\n",
       "      <th>1</th>\n",
       "      <td>0.787866</td>\n",
       "      <td>-1.680828</td>\n",
       "    </tr>\n",
       "    <tr>\n",
       "      <th>2</th>\n",
       "      <td>-0.000393</td>\n",
       "      <td>-1.069792</td>\n",
       "    </tr>\n",
       "    <tr>\n",
       "      <th>3</th>\n",
       "      <td>0.183602</td>\n",
       "      <td>-0.944234</td>\n",
       "    </tr>\n",
       "    <tr>\n",
       "      <th>4</th>\n",
       "      <td>-0.367345</td>\n",
       "      <td>0.147908</td>\n",
       "    </tr>\n",
       "    <tr>\n",
       "      <th>5</th>\n",
       "      <td>0.066790</td>\n",
       "      <td>-1.104463</td>\n",
       "    </tr>\n",
       "    <tr>\n",
       "      <th>6</th>\n",
       "      <td>6.319754</td>\n",
       "      <td>10.691011</td>\n",
       "    </tr>\n",
       "    <tr>\n",
       "      <th>7</th>\n",
       "      <td>-1.097317</td>\n",
       "      <td>-1.057845</td>\n",
       "    </tr>\n",
       "    <tr>\n",
       "      <th>8</th>\n",
       "      <td>0.505928</td>\n",
       "      <td>-1.393683</td>\n",
       "    </tr>\n",
       "    <tr>\n",
       "      <th>9</th>\n",
       "      <td>-3.013827</td>\n",
       "      <td>0.050212</td>\n",
       "    </tr>\n",
       "  </tbody>\n",
       "</table>\n",
       "</div>"
      ],
      "text/plain": [
       "   principal_component_1  principal_component_2\n",
       "0              -0.990931              -1.543769\n",
       "1               0.787866              -1.680828\n",
       "2              -0.000393              -1.069792\n",
       "3               0.183602              -0.944234\n",
       "4              -0.367345               0.147908\n",
       "5               0.066790              -1.104463\n",
       "6               6.319754              10.691011\n",
       "7              -1.097317              -1.057845\n",
       "8               0.505928              -1.393683\n",
       "9              -3.013827               0.050212"
      ]
     },
     "execution_count": 6,
     "metadata": {},
     "output_type": "execute_result"
    }
   ],
   "source": [
    "pca= PCA(n_components=2)\n",
    "\n",
    "principalComponents= pca.fit_transform(x)\n",
    "\n",
    "principalDf=pd.DataFrame(data= principalComponents\n",
    "                        ,columns=['principal_component_1','principal_component_2'])\n",
    "principalDf.head(10)\n"
   ]
  },
  {
   "cell_type": "code",
   "execution_count": 7,
   "id": "7dcbe9df",
   "metadata": {},
   "outputs": [
    {
     "data": {
      "text/html": [
       "<div>\n",
       "<style scoped>\n",
       "    .dataframe tbody tr th:only-of-type {\n",
       "        vertical-align: middle;\n",
       "    }\n",
       "\n",
       "    .dataframe tbody tr th {\n",
       "        vertical-align: top;\n",
       "    }\n",
       "\n",
       "    .dataframe thead th {\n",
       "        text-align: right;\n",
       "    }\n",
       "</style>\n",
       "<table border=\"1\" class=\"dataframe\">\n",
       "  <thead>\n",
       "    <tr style=\"text-align: right;\">\n",
       "      <th></th>\n",
       "      <th>principal_component_1</th>\n",
       "      <th>principal_component_2</th>\n",
       "      <th>Y</th>\n",
       "    </tr>\n",
       "  </thead>\n",
       "  <tbody>\n",
       "    <tr>\n",
       "      <th>0</th>\n",
       "      <td>-0.990931</td>\n",
       "      <td>-1.543769</td>\n",
       "      <td>default</td>\n",
       "    </tr>\n",
       "    <tr>\n",
       "      <th>1</th>\n",
       "      <td>0.787866</td>\n",
       "      <td>-1.680828</td>\n",
       "      <td>default</td>\n",
       "    </tr>\n",
       "    <tr>\n",
       "      <th>2</th>\n",
       "      <td>-0.000393</td>\n",
       "      <td>-1.069792</td>\n",
       "      <td>not default</td>\n",
       "    </tr>\n",
       "    <tr>\n",
       "      <th>3</th>\n",
       "      <td>0.183602</td>\n",
       "      <td>-0.944234</td>\n",
       "      <td>not default</td>\n",
       "    </tr>\n",
       "    <tr>\n",
       "      <th>4</th>\n",
       "      <td>-0.367345</td>\n",
       "      <td>0.147908</td>\n",
       "      <td>not default</td>\n",
       "    </tr>\n",
       "    <tr>\n",
       "      <th>5</th>\n",
       "      <td>0.066790</td>\n",
       "      <td>-1.104463</td>\n",
       "      <td>not default</td>\n",
       "    </tr>\n",
       "    <tr>\n",
       "      <th>6</th>\n",
       "      <td>6.319754</td>\n",
       "      <td>10.691011</td>\n",
       "      <td>not default</td>\n",
       "    </tr>\n",
       "    <tr>\n",
       "      <th>7</th>\n",
       "      <td>-1.097317</td>\n",
       "      <td>-1.057845</td>\n",
       "      <td>not default</td>\n",
       "    </tr>\n",
       "    <tr>\n",
       "      <th>8</th>\n",
       "      <td>0.505928</td>\n",
       "      <td>-1.393683</td>\n",
       "      <td>not default</td>\n",
       "    </tr>\n",
       "    <tr>\n",
       "      <th>9</th>\n",
       "      <td>-3.013827</td>\n",
       "      <td>0.050212</td>\n",
       "      <td>not default</td>\n",
       "    </tr>\n",
       "  </tbody>\n",
       "</table>\n",
       "</div>"
      ],
      "text/plain": [
       "   principal_component_1  principal_component_2            Y\n",
       "0              -0.990931              -1.543769      default\n",
       "1               0.787866              -1.680828      default\n",
       "2              -0.000393              -1.069792  not default\n",
       "3               0.183602              -0.944234  not default\n",
       "4              -0.367345               0.147908  not default\n",
       "5               0.066790              -1.104463  not default\n",
       "6               6.319754              10.691011  not default\n",
       "7              -1.097317              -1.057845  not default\n",
       "8               0.505928              -1.393683  not default\n",
       "9              -3.013827               0.050212  not default"
      ]
     },
     "execution_count": 7,
     "metadata": {},
     "output_type": "execute_result"
    }
   ],
   "source": [
    "finalDf=pd.concat([principalDf, credit[['Y']]], axis=1)\n",
    "finalDf.head(10)"
   ]
  },
  {
   "cell_type": "code",
   "execution_count": 22,
   "id": "00d43a92",
   "metadata": {},
   "outputs": [
    {
     "data": {
      "text/html": [
       "<div>\n",
       "<style scoped>\n",
       "    .dataframe tbody tr th:only-of-type {\n",
       "        vertical-align: middle;\n",
       "    }\n",
       "\n",
       "    .dataframe tbody tr th {\n",
       "        vertical-align: top;\n",
       "    }\n",
       "\n",
       "    .dataframe thead th {\n",
       "        text-align: right;\n",
       "    }\n",
       "</style>\n",
       "<table border=\"1\" class=\"dataframe\">\n",
       "  <thead>\n",
       "    <tr style=\"text-align: right;\">\n",
       "      <th></th>\n",
       "      <th>LIMIT_BAL</th>\n",
       "      <th>PAY_ATM1</th>\n",
       "      <th>PAY_ATM2</th>\n",
       "      <th>PAY_ATM3</th>\n",
       "      <th>BILL_ATM4</th>\n",
       "      <th>BILL_ATM5</th>\n",
       "    </tr>\n",
       "  </thead>\n",
       "  <tbody>\n",
       "    <tr>\n",
       "      <th>0</th>\n",
       "      <td>20000</td>\n",
       "      <td>0</td>\n",
       "      <td>689</td>\n",
       "      <td>0</td>\n",
       "      <td>0</td>\n",
       "      <td>0</td>\n",
       "    </tr>\n",
       "    <tr>\n",
       "      <th>1</th>\n",
       "      <td>120000</td>\n",
       "      <td>0</td>\n",
       "      <td>1000</td>\n",
       "      <td>1000</td>\n",
       "      <td>3272</td>\n",
       "      <td>3455</td>\n",
       "    </tr>\n",
       "    <tr>\n",
       "      <th>2</th>\n",
       "      <td>90000</td>\n",
       "      <td>1518</td>\n",
       "      <td>1500</td>\n",
       "      <td>1000</td>\n",
       "      <td>14331</td>\n",
       "      <td>14948</td>\n",
       "    </tr>\n",
       "    <tr>\n",
       "      <th>3</th>\n",
       "      <td>50000</td>\n",
       "      <td>2000</td>\n",
       "      <td>2019</td>\n",
       "      <td>1200</td>\n",
       "      <td>28314</td>\n",
       "      <td>28959</td>\n",
       "    </tr>\n",
       "    <tr>\n",
       "      <th>4</th>\n",
       "      <td>50000</td>\n",
       "      <td>2000</td>\n",
       "      <td>36681</td>\n",
       "      <td>10000</td>\n",
       "      <td>20940</td>\n",
       "      <td>19146</td>\n",
       "    </tr>\n",
       "    <tr>\n",
       "      <th>5</th>\n",
       "      <td>50000</td>\n",
       "      <td>2500</td>\n",
       "      <td>1815</td>\n",
       "      <td>657</td>\n",
       "      <td>19394</td>\n",
       "      <td>19619</td>\n",
       "    </tr>\n",
       "    <tr>\n",
       "      <th>6</th>\n",
       "      <td>500000</td>\n",
       "      <td>55000</td>\n",
       "      <td>40000</td>\n",
       "      <td>38000</td>\n",
       "      <td>542653</td>\n",
       "      <td>483003</td>\n",
       "    </tr>\n",
       "    <tr>\n",
       "      <th>7</th>\n",
       "      <td>100000</td>\n",
       "      <td>380</td>\n",
       "      <td>601</td>\n",
       "      <td>0</td>\n",
       "      <td>221</td>\n",
       "      <td>-159</td>\n",
       "    </tr>\n",
       "    <tr>\n",
       "      <th>8</th>\n",
       "      <td>140000</td>\n",
       "      <td>3329</td>\n",
       "      <td>0</td>\n",
       "      <td>432</td>\n",
       "      <td>12211</td>\n",
       "      <td>11793</td>\n",
       "    </tr>\n",
       "  </tbody>\n",
       "</table>\n",
       "</div>"
      ],
      "text/plain": [
       "   LIMIT_BAL  PAY_ATM1  PAY_ATM2  PAY_ATM3  BILL_ATM4  BILL_ATM5\n",
       "0      20000         0       689         0          0          0\n",
       "1     120000         0      1000      1000       3272       3455\n",
       "2      90000      1518      1500      1000      14331      14948\n",
       "3      50000      2000      2019      1200      28314      28959\n",
       "4      50000      2000     36681     10000      20940      19146\n",
       "5      50000      2500      1815       657      19394      19619\n",
       "6     500000     55000     40000     38000     542653     483003\n",
       "7     100000       380       601         0        221       -159\n",
       "8     140000      3329         0       432      12211      11793"
      ]
     },
     "execution_count": 22,
     "metadata": {},
     "output_type": "execute_result"
    }
   ],
   "source": [
    "credit = pd.DataFrame(credit)\n",
    "cdf=credit[['LIMIT_BAL','PAY_ATM1','PAY_ATM2','PAY_ATM3','BILL_ATM4','BILL_ATM5']]\n",
    "cdf.head(9)"
   ]
  },
  {
   "cell_type": "code",
   "execution_count": 23,
   "id": "8478d961",
   "metadata": {},
   "outputs": [
    {
     "data": {
      "text/plain": [
       "<function matplotlib.pyplot.show(close=None, block=None)>"
      ]
     },
     "execution_count": 23,
     "metadata": {},
     "output_type": "execute_result"
    },
    {
     "data": {
      "image/png": "[encoded data removed]",
      "text/plain": [
       "<Figure size 640x480 with 6 Axes>"
      ]
     },
     "metadata": {},
     "output_type": "display_data"
    }
   ],
   "source": [
    "viz = cdf[['LIMIT_BAL','PAY_ATM1','PAY_ATM2','PAY_ATM3','BILL_ATM4','BILL_ATM5']]\n",
    "viz.hist()\n",
    "plt.show"
   ]
  },
  {
   "cell_type": "code",
   "execution_count": 24,
   "id": "f8fee8bb",
   "metadata": {},
   "outputs": [],
   "source": [
    "msk= np.random.rand(len(credit))<0.8\n",
    "train= cdf[msk]\n",
    "test= cdf[~msk]"
   ]
  },
  {
   "cell_type": "markdown",
   "id": "b8580c12",
   "metadata": {},
   "source": [
    "<h4 Style='color: #1693a7'> Generalizacion del modelo de regresion lineal</h4>"
   ]
  },
  {
   "cell_type": "code",
   "execution_count": 25,
   "id": "b2aede0c",
   "metadata": {},
   "outputs": [
    {
     "name": "stdout",
     "output_type": "stream",
     "text": [
      "Coeficients:  [[1.28067558 1.41903595 0.4667622  0.17736111 0.34880595]]\n"
     ]
    }
   ],
   "source": [
    "from sklearn import linear_model\n",
    "regr = linear_model.LinearRegression()\n",
    "x =np.asanyarray(train[['PAY_ATM1','PAY_ATM2','PAY_ATM3','BILL_ATM4','BILL_ATM5']])\n",
    "y= np.asanyarray(train[['LIMIT_BAL']])\n",
    "regr.fit (x, y)\n",
    "print('Coeficients: ', regr.coef_)"
   ]
  },
  {
   "cell_type": "code",
   "execution_count": 26,
   "id": "d0545807",
   "metadata": {},
   "outputs": [
    {
     "name": "stdout",
     "output_type": "stream",
     "text": [
      "Residual sum of squares: 13602027879.78\n",
      "Variance score: 0.20\n"
     ]
    },
    {
     "name": "stderr",
     "output_type": "stream",
     "text": [
      "D:\\Analisis de Datos\\lib\\site-packages\\sklearn\\base.py:413: UserWarning: X has feature names, but LinearRegression was fitted without feature names\n",
      "  warnings.warn(\n"
     ]
    }
   ],
   "source": [
    "y_hat=regr.predict(test[['PAY_ATM1','PAY_ATM2','PAY_ATM3','BILL_ATM4','BILL_ATM5']])\n",
    "x =np.asanyarray(test[['PAY_ATM1','PAY_ATM2','PAY_ATM3','BILL_ATM4','BILL_ATM5']])\n",
    "y= np.asanyarray(test[['LIMIT_BAL']])\n",
    "print(\"Residual sum of squares: %.2f\"\n",
    "     %np.mean((y_hat - y) ** 2))\n",
    "print('Variance score: %.2f'% regr.score(x, y))\n"
   ]
  },
  {
   "cell_type": "code",
   "execution_count": 27,
   "id": "8432c21c",
   "metadata": {},
   "outputs": [
    {
     "data": {
      "text/html": [
       "<div>\n",
       "<style scoped>\n",
       "    .dataframe tbody tr th:only-of-type {\n",
       "        vertical-align: middle;\n",
       "    }\n",
       "\n",
       "    .dataframe tbody tr th {\n",
       "        vertical-align: top;\n",
       "    }\n",
       "\n",
       "    .dataframe thead th {\n",
       "        text-align: right;\n",
       "    }\n",
       "</style>\n",
       "<table border=\"1\" class=\"dataframe\">\n",
       "  <thead>\n",
       "    <tr style=\"text-align: right;\">\n",
       "      <th></th>\n",
       "      <th>Actual</th>\n",
       "      <th>Predicted</th>\n",
       "    </tr>\n",
       "  </thead>\n",
       "  <tbody>\n",
       "    <tr>\n",
       "      <th>0</th>\n",
       "      <td>20000</td>\n",
       "      <td>128767.681678</td>\n",
       "    </tr>\n",
       "    <tr>\n",
       "      <th>1</th>\n",
       "      <td>500000</td>\n",
       "      <td>537445.384870</td>\n",
       "    </tr>\n",
       "    <tr>\n",
       "      <th>2</th>\n",
       "      <td>20000</td>\n",
       "      <td>132326.884952</td>\n",
       "    </tr>\n",
       "    <tr>\n",
       "      <th>3</th>\n",
       "      <td>130000</td>\n",
       "      <td>142052.897611</td>\n",
       "    </tr>\n",
       "    <tr>\n",
       "      <th>4</th>\n",
       "      <td>120000</td>\n",
       "      <td>128863.520115</td>\n",
       "    </tr>\n",
       "    <tr>\n",
       "      <th>5</th>\n",
       "      <td>60000</td>\n",
       "      <td>129243.190631</td>\n",
       "    </tr>\n",
       "    <tr>\n",
       "      <th>6</th>\n",
       "      <td>100000</td>\n",
       "      <td>179995.807923</td>\n",
       "    </tr>\n",
       "    <tr>\n",
       "      <th>7</th>\n",
       "      <td>160000</td>\n",
       "      <td>128021.782913</td>\n",
       "    </tr>\n",
       "    <tr>\n",
       "      <th>8</th>\n",
       "      <td>280000</td>\n",
       "      <td>243328.510665</td>\n",
       "    </tr>\n",
       "    <tr>\n",
       "      <th>9</th>\n",
       "      <td>70000</td>\n",
       "      <td>173776.056300</td>\n",
       "    </tr>\n",
       "  </tbody>\n",
       "</table>\n",
       "</div>"
      ],
      "text/plain": [
       "   Actual      Predicted\n",
       "0   20000  128767.681678\n",
       "1  500000  537445.384870\n",
       "2   20000  132326.884952\n",
       "3  130000  142052.897611\n",
       "4  120000  128863.520115\n",
       "5   60000  129243.190631\n",
       "6  100000  179995.807923\n",
       "7  160000  128021.782913\n",
       "8  280000  243328.510665\n",
       "9   70000  173776.056300"
      ]
     },
     "execution_count": 27,
     "metadata": {},
     "output_type": "execute_result"
    }
   ],
   "source": [
    "df= pd.DataFrame({'Actual': y.flatten(),'Predicted': y_hat.flatten()})\n",
    "df.head(10)"
   ]
  },
  {
   "cell_type": "code",
   "execution_count": 28,
   "id": "cc800009",
   "metadata": {
    "scrolled": false
   },
   "outputs": [
    {
     "data": {
      "image/png": "[encoded data removed]",
      "text/plain": [
       "<Figure size 1600x1000 with 1 Axes>"
      ]
     },
     "metadata": {},
     "output_type": "display_data"
    }
   ],
   "source": [
    "df1=df.head(10)\n",
    "df1.plot(kind='bar',figsize=(16,10))\n",
    "plt.grid(which='major', linestyle='-', linewidth='0.5', color='green')\n",
    "plt.grid(which='minor', linestyle=':', linewidth='0.5', color='black')\n",
    "plt.show()"
   ]
  },
  {
   "cell_type": "code",
   "execution_count": 29,
   "id": "f5ecd281",
   "metadata": {},
   "outputs": [
    {
     "data": {
      "image/png": "[encoded data removed]",
      "text/plain": [
       "<Figure size 640x480 with 1 Axes>"
      ]
     },
     "metadata": {},
     "output_type": "display_data"
    },
    {
     "name": "stdout",
     "output_type": "stream",
     "text": [
      "Residual sum of squares: 13602027879.78\n",
      "Variance score: 0.20\n"
     ]
    }
   ],
   "source": [
    "\n",
    "# Crear el diagrama de dispersión\n",
    "plt.scatter(y, y_hat, color='blue')\n",
    "plt.title('Diagrama de Dispersión')\n",
    "plt.xlabel('VALOR REAL (y)')\n",
    "plt.ylabel('VALOR PREDICHO (y_hat)')\n",
    "\n",
    "# Añadir una línea de referencia para la igualdad (y = y_hat)\n",
    "plt.plot([y.min(), y.max()], [y.min(), y.max()], linestyle='--', color='red', linewidth=2)\n",
    "\n",
    "plt.show()\n",
    "\n",
    "# Calcular las métricas de evaluación\n",
    "residuals = y_hat - y\n",
    "mse = np.mean(residuals ** 2)\n",
    "variance_score = regr.score(x, y)\n",
    "\n",
    "print(f\"Residual sum of squares: {mse:.2f}\")\n",
    "print(f'Variance score: {variance_score:.2f}')"
   ]
  },
  {
   "cell_type": "code",
   "execution_count": 17,
   "id": "36de97d4",
   "metadata": {},
   "outputs": [
    {
     "name": "stdout",
     "output_type": "stream",
     "text": [
      "Coeficients:  [[2.49717439]]\n",
      "Intercept: [154238.68272181]\n"
     ]
    }
   ],
   "source": [
    "from sklearn import linear_model\n",
    "regr = linear_model.LinearRegression()\n",
    "x =np.asanyarray(train[['PAY_ATM1']])\n",
    "y= np.asanyarray(train[['LIMIT_BAL']])\n",
    "regr.fit (x, y)\n",
    "print('Coeficients: ', regr.coef_)\n",
    "print( 'Intercept:', regr.intercept_)"
   ]
  },
  {
   "cell_type": "code",
   "execution_count": 18,
   "id": "6d8240e5",
   "metadata": {},
   "outputs": [
    {
     "name": "stdout",
     "output_type": "stream",
     "text": [
      "Residual sum of squares: 14354873266.68\n",
      "Variance score: 0.05\n"
     ]
    },
    {
     "name": "stderr",
     "output_type": "stream",
     "text": [
      "D:\\Analisis de Datos\\lib\\site-packages\\sklearn\\base.py:413: UserWarning: X has feature names, but LinearRegression was fitted without feature names\n",
      "  warnings.warn(\n"
     ]
    }
   ],
   "source": [
    "y_hat=regr.predict(test[['PAY_ATM1']])\n",
    "x =np.asanyarray(test[['PAY_ATM1']])\n",
    "y= np.asanyarray(test[['LIMIT_BAL']])\n",
    "print(\"Residual sum of squares: %.2f\"\n",
    "     %np.mean((y_hat - y) ** 2))\n",
    "print('Variance score: %.2f'% regr.score(x, y))"
   ]
  },
  {
   "cell_type": "code",
   "execution_count": 19,
   "id": "aeb05345",
   "metadata": {},
   "outputs": [
    {
     "data": {
      "text/html": [
       "<div>\n",
       "<style scoped>\n",
       "    .dataframe tbody tr th:only-of-type {\n",
       "        vertical-align: middle;\n",
       "    }\n",
       "\n",
       "    .dataframe tbody tr th {\n",
       "        vertical-align: top;\n",
       "    }\n",
       "\n",
       "    .dataframe thead th {\n",
       "        text-align: right;\n",
       "    }\n",
       "</style>\n",
       "<table border=\"1\" class=\"dataframe\">\n",
       "  <thead>\n",
       "    <tr style=\"text-align: right;\">\n",
       "      <th></th>\n",
       "      <th>Actual</th>\n",
       "      <th>Predicted</th>\n",
       "    </tr>\n",
       "  </thead>\n",
       "  <tbody>\n",
       "    <tr>\n",
       "      <th>0</th>\n",
       "      <td>20000</td>\n",
       "      <td>154238.682722</td>\n",
       "    </tr>\n",
       "    <tr>\n",
       "      <th>1</th>\n",
       "      <td>120000</td>\n",
       "      <td>154238.682722</td>\n",
       "    </tr>\n",
       "    <tr>\n",
       "      <th>2</th>\n",
       "      <td>90000</td>\n",
       "      <td>158029.393449</td>\n",
       "    </tr>\n",
       "    <tr>\n",
       "      <th>3</th>\n",
       "      <td>50000</td>\n",
       "      <td>160481.618701</td>\n",
       "    </tr>\n",
       "    <tr>\n",
       "      <th>4</th>\n",
       "      <td>20000</td>\n",
       "      <td>154238.682722</td>\n",
       "    </tr>\n",
       "    <tr>\n",
       "      <th>5</th>\n",
       "      <td>250000</td>\n",
       "      <td>161730.205897</td>\n",
       "    </tr>\n",
       "    <tr>\n",
       "      <th>6</th>\n",
       "      <td>320000</td>\n",
       "      <td>180104.415072</td>\n",
       "    </tr>\n",
       "    <tr>\n",
       "      <th>7</th>\n",
       "      <td>360000</td>\n",
       "      <td>154238.682722</td>\n",
       "    </tr>\n",
       "    <tr>\n",
       "      <th>8</th>\n",
       "      <td>70000</td>\n",
       "      <td>159250.511726</td>\n",
       "    </tr>\n",
       "    <tr>\n",
       "      <th>9</th>\n",
       "      <td>50000</td>\n",
       "      <td>158528.828327</td>\n",
       "    </tr>\n",
       "  </tbody>\n",
       "</table>\n",
       "</div>"
      ],
      "text/plain": [
       "   Actual      Predicted\n",
       "0   20000  154238.682722\n",
       "1  120000  154238.682722\n",
       "2   90000  158029.393449\n",
       "3   50000  160481.618701\n",
       "4   20000  154238.682722\n",
       "5  250000  161730.205897\n",
       "6  320000  180104.415072\n",
       "7  360000  154238.682722\n",
       "8   70000  159250.511726\n",
       "9   50000  158528.828327"
      ]
     },
     "execution_count": 19,
     "metadata": {},
     "output_type": "execute_result"
    }
   ],
   "source": [
    "df= pd.DataFrame({'Actual': y.flatten(),'Predicted': y_hat.flatten()})\n",
    "df.head(10)"
   ]
  },
  {
   "cell_type": "code",
   "execution_count": 20,
   "id": "4301cce0",
   "metadata": {},
   "outputs": [
    {
     "data": {
      "image/png": "[encoded data removed]",
      "text/plain": [
       "<Figure size 1600x1000 with 1 Axes>"
      ]
     },
     "metadata": {},
     "output_type": "display_data"
    }
   ],
   "source": [
    "df1=df.head(10)\n",
    "df1.plot(kind='bar',figsize=(16,10))\n",
    "plt.grid(which='major', linestyle='-', linewidth='0.5', color='green')\n",
    "plt.grid(which='minor', linestyle=':', linewidth='0.5', color='black')\n",
    "plt.show()"
   ]
  },
  {
   "cell_type": "code",
   "execution_count": 21,
   "id": "bc4f5682",
   "metadata": {},
   "outputs": [
    {
     "name": "stderr",
     "output_type": "stream",
     "text": [
      "D:\\Analisis de Datos\\lib\\site-packages\\sklearn\\base.py:413: UserWarning: X has feature names, but LinearRegression was fitted without feature names\n",
      "  warnings.warn(\n"
     ]
    },
    {
     "data": {
      "image/png": "[encoded data removed]",
      "text/plain": [
       "<Figure size 640x480 with 1 Axes>"
      ]
     },
     "metadata": {},
     "output_type": "display_data"
    },
    {
     "name": "stdout",
     "output_type": "stream",
     "text": [
      "Residual sum of squares: 14354873266.68\n",
      "Variance score: 0.05\n"
     ]
    }
   ],
   "source": [
    "y_hat = regr.predict(test[['PAY_ATM1']])\n",
    "x = np.asanyarray(test[['PAY_ATM1']])\n",
    "y = np.asanyarray(test[['LIMIT_BAL']])\n",
    "\n",
    "# Crear el diagrama de dispersión\n",
    "plt.scatter(y, y_hat, color='blue')\n",
    "plt.title('Diagrama de Dispersión')\n",
    "plt.xlabel('VALOR REAL (y)')\n",
    "plt.ylabel('VALOR PREDICHO (y_hat)')\n",
    "\n",
    "# Añadir una línea de referencia para la igualdad (y = y_hat)\n",
    "plt.plot([y.min(), y.max()], [y.min(), y.max()], linestyle='--', color='red', linewidth=2)\n",
    "\n",
    "plt.show()\n",
    "\n",
    "# Calcular las métricas de evaluación\n",
    "residuals = y_hat - y\n",
    "mse = np.mean(residuals ** 2)\n",
    "variance_score = regr.score(x, y)\n",
    "\n",
    "print(f\"Residual sum of squares: {mse:.2f}\")\n",
    "print(f'Variance score: {variance_score:.2f}')"
   ]
  },
  {
   "cell_type": "code",
   "execution_count": null,
   "id": "80626a08",
   "metadata": {},
   "outputs": [],
   "source": []
  }
 ],
 "metadata": {
  "kernelspec": {
   "display_name": "Python 3 (ipykernel)",
   "language": "python",
   "name": "python3"
  },
  "language_info": {
   "codemirror_mode": {
    "name": "ipython",
    "version": 3
   },
   "file_extension": ".py",
   "mimetype": "text/x-python",
   "name": "python",
   "nbconvert_exporter": "python",
   "pygments_lexer": "ipython3",
   "version": "3.10.9"
  }
 },
 "nbformat": 4,
 "nbformat_minor": 5
}
